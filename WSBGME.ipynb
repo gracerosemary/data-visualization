{
  "nbformat": 4,
  "nbformat_minor": 0,
  "metadata": {
    "colab": {
      "name": "WSBGME.ipynb",
      "provenance": []
    },
    "kernelspec": {
      "name": "python3",
      "display_name": "Python 3",
      "language": "python"
    }
  },
  "cells": [
    {
      "cell_type": "markdown",
      "metadata": {
        "id": "LaBJK-ZTbQaR"
      },
      "source": [
        "# 🚀 r/WallStreetBets and the GameStop Short Squeeze 🚀"
      ]
    },
    {
      "cell_type": "code",
      "metadata": {
        "id": "ja2sq4rqsvQi",
        "colab": {
          "base_uri": "https://localhost:8080/"
        },
        "outputId": "01aabccf-dbf4-451c-91eb-705e5405f349"
      },
      "source": [
        "# from google.colab import drive\n",
        "# drive.mount('/content/drive')\n",
        "# drive.mount('/content/drive', force_remount=True)"
      ],
      "execution_count": 3,
      "outputs": []
    },
    {
      "cell_type": "markdown",
      "metadata": {
        "id": "5blsWf1rcuuF"
      },
      "source": [
        "## Import libraries:"
      ]
    },
    {
      "cell_type": "code",
      "metadata": {
        "id": "1Bf9vzNKzcRm"
      },
      "source": [
        "import matplotlib.pyplot as plt\n",
        "import pandas as pd\n",
        "import numpy as np\n",
        "from wordcloud import WordCloud, STOPWORDS"
      ],
      "execution_count": 4,
      "outputs": [
        {
          "output_type": "error",
          "ename": "ModuleNotFoundError",
          "evalue": "No module named 'matplotlib'",
          "traceback": [
            "\u001b[0;31m---------------------------------------------------------------------------\u001b[0m",
            "\u001b[0;31mModuleNotFoundError\u001b[0m                       Traceback (most recent call last)",
            "\u001b[0;32m<ipython-input-4-274939de0fec>\u001b[0m in \u001b[0;36m<module>\u001b[0;34m\u001b[0m\n\u001b[0;32m----> 1\u001b[0;31m \u001b[0;32mimport\u001b[0m \u001b[0mmatplotlib\u001b[0m\u001b[0;34m.\u001b[0m\u001b[0mpyplot\u001b[0m \u001b[0;32mas\u001b[0m \u001b[0mplt\u001b[0m\u001b[0;34m\u001b[0m\u001b[0;34m\u001b[0m\u001b[0m\n\u001b[0m\u001b[1;32m      2\u001b[0m \u001b[0;32mimport\u001b[0m \u001b[0mpandas\u001b[0m \u001b[0;32mas\u001b[0m \u001b[0mpd\u001b[0m\u001b[0;34m\u001b[0m\u001b[0;34m\u001b[0m\u001b[0m\n\u001b[1;32m      3\u001b[0m \u001b[0;32mimport\u001b[0m \u001b[0mnumpy\u001b[0m \u001b[0;32mas\u001b[0m \u001b[0mnp\u001b[0m\u001b[0;34m\u001b[0m\u001b[0;34m\u001b[0m\u001b[0m\n\u001b[1;32m      4\u001b[0m \u001b[0;32mfrom\u001b[0m \u001b[0mwordcloud\u001b[0m \u001b[0;32mimport\u001b[0m \u001b[0mWordCloud\u001b[0m\u001b[0;34m,\u001b[0m \u001b[0mSTOPWORDS\u001b[0m\u001b[0;34m\u001b[0m\u001b[0;34m\u001b[0m\u001b[0m\n",
            "\u001b[0;31mModuleNotFoundError\u001b[0m: No module named 'matplotlib'"
          ]
        }
      ]
    },
    {
      "cell_type": "markdown",
      "metadata": {
        "id": "64hqer2aczjR"
      },
      "source": [
        "## Read CSV files:"
      ]
    },
    {
      "cell_type": "code",
      "metadata": {
        "id": "qh2oJeh0IMFz"
      },
      "source": [
        "gme = pd.read_csv('stockticker_history.csv', parse_dates=['Date'])\n",
        "comments = pd.read_csv('comment_analysis.csv', parse_dates=['PostedYYYY-MM-DD'])"
      ],
      "execution_count": 3,
      "outputs": []
    },
    {
      "cell_type": "markdown",
      "metadata": {
        "id": "BEqS0Rmpc4II"
      },
      "source": [
        "## Change Floats to Ints and make a new column for only the day of the month (instead of the entire date)"
      ]
    },
    {
      "cell_type": "code",
      "metadata": {
        "id": "zimAYqtSOG4K"
      },
      "source": [
        "comments['NumberOfTickerMentions'] = comments['NumberOfTickerMentions'].apply(np.int64)\n",
        "gme.reset_index(drop=True)\n",
        "gme['Date'] = gme['Date'].dt.day\n",
        "comments.reset_index(drop=True)\n",
        "comments['PostedYYYY-MM-DD'] = comments['PostedYYYY-MM-DD'].dt.day"
      ],
      "execution_count": 4,
      "outputs": []
    },
    {
      "cell_type": "markdown",
      "metadata": {
        "id": "t8R143z4egiV"
      },
      "source": [
        "## Set x and y values for 2 plots"
      ]
    },
    {
      "cell_type": "code",
      "metadata": {
        "id": "Qu7P4VCcKfa0"
      },
      "source": [
        "x1 = gme['Date'].values\n",
        "y1 = gme['Close'].values\n",
        "x2 = comments['PostedYYYY-MM-DD'].values\n",
        "y2 = comments['NumberOfTickerMentions'].values"
      ],
      "execution_count": 5,
      "outputs": []
    },
    {
      "cell_type": "markdown",
      "metadata": {
        "id": "Ep5ejgpNetab"
      },
      "source": [
        "## GME Closing Price (Bar Graph)"
      ]
    },
    {
      "cell_type": "code",
      "metadata": {
        "colab": {
          "base_uri": "https://localhost:8080/",
          "height": 312
        },
        "id": "v2Gy8u4lLtMW",
        "outputId": "9f97ff41-5aad-4670-d423-e6cc749c7ee9"
      },
      "source": [
        "plt.bar(x1, y1)\n",
        "plt.xlabel('Day of the month')\n",
        "plt.ylabel('Close Price (rounded to nearest $)')\n",
        "plt.title('GME Closing Price - January 2021')\n",
        "plt.show"
      ],
      "execution_count": 6,
      "outputs": [
        {
          "output_type": "execute_result",
          "data": {
            "text/plain": [
              "<function matplotlib.pyplot.show>"
            ]
          },
          "metadata": {
            "tags": []
          },
          "execution_count": 6
        },
        {
          "output_type": "display_data",
          "data": {
            "image/png": "[encoded data removed]",
            "text/plain": [
              "<Figure size 432x288 with 1 Axes>"
            ]
          },
          "metadata": {
            "tags": [],
            "needs_background": "light"
          }
        }
      ]
    },
    {
      "cell_type": "markdown",
      "metadata": {
        "id": "URm0lV17eyOu"
      },
      "source": [
        "## Number of GME mentions in WSB (Bar Graph)"
      ]
    },
    {
      "cell_type": "code",
      "metadata": {
        "colab": {
          "base_uri": "https://localhost:8080/",
          "height": 312
        },
        "id": "9Nsxy5AyNoj3",
        "outputId": "5ead54d6-3244-473e-bc70-1aa73068a85c"
      },
      "source": [
        "plt.bar(x2, y2)\n",
        "plt.xlabel('Day of the month')\n",
        "plt.ylabel('Number of GME mentions in WSB')\n",
        "plt.title('WSB hyping GME - January 2021')\n",
        "plt.show"
      ],
      "execution_count": 7,
      "outputs": [
        {
          "output_type": "execute_result",
          "data": {
            "text/plain": [
              "<function matplotlib.pyplot.show>"
            ]
          },
          "metadata": {
            "tags": []
          },
          "execution_count": 7
        },
        {
          "output_type": "display_data",
          "data": {
            "image/png": "[encoded data removed]",
            "text/plain": [
              "<Figure size 432x288 with 1 Axes>"
            ]
          },
          "metadata": {
            "tags": [],
            "needs_background": "light"
          }
        }
      ]
    },
    {
      "cell_type": "markdown",
      "metadata": {
        "id": "14FWhP2fXKNf"
      },
      "source": [
        "# Conclusion: More mentions == more money activity! 🚀🚀🚀🚀"
      ]
    },
    {
      "cell_type": "markdown",
      "metadata": {
        "id": "3RYLa5Kye8Uk"
      },
      "source": [
        "## Extra fun: Word Cloud of the WSB comments!"
      ]
    },
    {
      "cell_type": "code",
      "metadata": {
        "id": "7EkfURIjXge6"
      },
      "source": [
        "# source : https://www.mikulskibartosz.name/word-cloud-from-a-pandas-data-frame/\n",
        "text = comments.Title.values\n",
        "wordcloud = WordCloud(\n",
        "    width = 3000,\n",
        "    height = 2000,\n",
        "    background_color = 'black',\n",
        "    stopwords = STOPWORDS).generate(str(text))\n",
        "fig = plt.figure(\n",
        "    figsize = (30, 20),\n",
        "    facecolor = 'k',\n",
        "    edgecolor = 'k')\n",
        "plt.imshow(wordcloud, interpolation = 'bilinear')\n",
        "plt.axis('off')\n",
        "plt.tight_layout(pad=0)\n",
        "plt.show()"
      ],
      "execution_count": 1,
      "outputs": [
        {
          "output_type": "error",
          "ename": "NameError",
          "evalue": "name 'comments' is not defined",
          "traceback": [
            "\u001b[0;31m---------------------------------------------------------------------------\u001b[0m",
            "\u001b[0;31mNameError\u001b[0m                                 Traceback (most recent call last)",
            "\u001b[0;32m<ipython-input-1-cd4305ee960a>\u001b[0m in \u001b[0;36m<module>\u001b[0;34m\u001b[0m\n\u001b[1;32m      1\u001b[0m \u001b[0;31m# source : https://www.mikulskibartosz.name/word-cloud-from-a-pandas-data-frame/\u001b[0m\u001b[0;34m\u001b[0m\u001b[0;34m\u001b[0m\u001b[0;34m\u001b[0m\u001b[0m\n\u001b[0;32m----> 2\u001b[0;31m \u001b[0mtext\u001b[0m \u001b[0;34m=\u001b[0m \u001b[0mcomments\u001b[0m\u001b[0;34m.\u001b[0m\u001b[0mTitle\u001b[0m\u001b[0;34m.\u001b[0m\u001b[0mvalues\u001b[0m\u001b[0;34m\u001b[0m\u001b[0;34m\u001b[0m\u001b[0m\n\u001b[0m\u001b[1;32m      3\u001b[0m wordcloud = WordCloud(\n\u001b[1;32m      4\u001b[0m     \u001b[0mwidth\u001b[0m \u001b[0;34m=\u001b[0m \u001b[0;36m3000\u001b[0m\u001b[0;34m,\u001b[0m\u001b[0;34m\u001b[0m\u001b[0;34m\u001b[0m\u001b[0m\n\u001b[1;32m      5\u001b[0m     \u001b[0mheight\u001b[0m \u001b[0;34m=\u001b[0m \u001b[0;36m2000\u001b[0m\u001b[0;34m,\u001b[0m\u001b[0;34m\u001b[0m\u001b[0;34m\u001b[0m\u001b[0m\n",
            "\u001b[0;31mNameError\u001b[0m: name 'comments' is not defined"
          ]
        }
      ]
    },
    {
      "cell_type": "code",
      "execution_count": null,
      "metadata": {},
      "outputs": [],
      "source": []
    }
  ]
}